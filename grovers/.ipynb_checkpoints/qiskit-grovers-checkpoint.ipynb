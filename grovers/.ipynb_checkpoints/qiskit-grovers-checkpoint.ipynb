{
 "cells": [
  {
   "cell_type": "code",
   "execution_count": 1,
   "metadata": {},
   "outputs": [],
   "source": [
    "from qiskit import QuantumCircuit, execute, Aer, IBMQ\n",
    "from qiskit.compiler import transpile, assemble\n",
    "from qiskit.tools.jupyter import *\n",
    "from qiskit.visualization import *\n",
    "import numpy as np\n",
    "from qiskit.quantum_info.operators import Operator"
   ]
  },
  {
   "cell_type": "code",
   "execution_count": 10,
   "metadata": {},
   "outputs": [],
   "source": [
    "SEARCHED_STRING = \"1100\"\n",
    "\n",
    "N = len(SEARCHED_STRING)\n",
    "oracle = np.zeros(shape=(2 ** N, 2 ** N))\n",
    "for b in range(2 ** N):\n",
    "    if np.binary_repr(b, N) == SEARCHED_STRING:\n",
    "        oracle[b, b] = -1\n",
    "    else:\n",
    "        oracle[b, b] = 1\n",
    "        \n",
    "diffusion = 2.0 * np.full((2 ** N, 2 ** N), 1 / (2 ** N)) - np.eye(2 ** N)        \n",
    "\n",
    "#print(oracle)\n",
    "#print(diffusion)"
   ]
  },
  {
   "cell_type": "code",
   "execution_count": 11,
   "metadata": {},
   "outputs": [],
   "source": [
    "circuit = QuantumCircuit(N, N)\n",
    "\n",
    "\n",
    "for i in range(N):\n",
    "    circuit.h(i)"
   ]
  },
  {
   "cell_type": "code",
   "execution_count": 12,
   "metadata": {},
   "outputs": [],
   "source": [
    "oracle_gate = Operator(oracle)\n",
    "diffusion_gate = Operator(diffusion)"
   ]
  },
  {
   "cell_type": "code",
   "execution_count": 13,
   "metadata": {},
   "outputs": [],
   "source": [
    "N_ITER = int(np.pi / 4 * np.sqrt(2 ** N))"
   ]
  },
  {
   "cell_type": "code",
   "execution_count": 14,
   "metadata": {},
   "outputs": [],
   "source": [
    "oracle_diffusion_qubit_targets = []\n",
    "\n",
    "for i in range(N):\n",
    "    oracle_diffusion_qubit_targets.append(i)\n",
    "    \n",
    "for i in range(N_ITER):\n",
    "    circuit.unitary(oracle_gate, oracle_diffusion_qubit_targets, label='oracle_gate')\n",
    "\n",
    "    circuit.unitary(diffusion_gate, oracle_diffusion_qubit_targets, label='diffusion_gate')"
   ]
  },
  {
   "cell_type": "code",
   "execution_count": 15,
   "metadata": {},
   "outputs": [
    {
     "name": "stdout",
     "output_type": "stream",
     "text": [
      "0.010873079299926758\n"
     ]
    }
   ],
   "source": [
    "circuit.measure_all()\n",
    "all_local_backends = Aer.backends(local=True)  # returns a list of local backends\n",
    "qasm_simulator = all_local_backends[0]\n",
    "\n",
    "simulator = Aer.get_backend('qasm_simulator')\n",
    "\n",
    "job = execute(circuit, simulator, shots=1)\n",
    "\n",
    "result = job.result()\n",
    "\n",
    "time = result.time_taken\n",
    "\n",
    "print(time)\n",
    "\n",
    "counts = result.get_counts(circuit)\n",
    "\n",
    "#print(counts)\n",
    "#plot_histogram(counts)"
   ]
  },
  {
   "cell_type": "code",
   "execution_count": 16,
   "metadata": {},
   "outputs": [
    {
     "data": {
      "text/html": [
       "<pre style=\"word-wrap: normal;white-space: pre;background: #fff0;line-height: 1.1;font-family: &quot;Courier New&quot;,Courier,monospace\">     ┌───┐┌──────────────┐┌─────────────────┐┌──────────────┐»\n",
       "q_0: ┤ H ├┤0             ├┤0                ├┤0             ├»\n",
       "     ├───┤│              ││                 ││              │»\n",
       "q_1: ┤ H ├┤1             ├┤1                ├┤1             ├»\n",
       "     ├───┤│  oracle_gate ││  diffusion_gate ││  oracle_gate │»\n",
       "q_2: ┤ H ├┤2             ├┤2                ├┤2             ├»\n",
       "     ├───┤│              ││                 ││              │»\n",
       "q_3: ┤ H ├┤3             ├┤3                ├┤3             ├»\n",
       "     └───┘└──────────────┘└─────────────────┘└──────────────┘»\n",
       "c_0: ════════════════════════════════════════════════════════»\n",
       "                                                             »\n",
       "c_1: ════════════════════════════════════════════════════════»\n",
       "                                                             »\n",
       "c_2: ════════════════════════════════════════════════════════»\n",
       "                                                             »\n",
       "c_3: ════════════════════════════════════════════════════════»\n",
       "                                                             »\n",
       "«     ┌─────────────────┐┌──────────────┐┌─────────────────┐┌─┐         \n",
       "«q_0: ┤0                ├┤0             ├┤0                ├┤M├─────────\n",
       "«     │                 ││              ││                 │└╥┘┌─┐      \n",
       "«q_1: ┤1                ├┤1             ├┤1                ├─╫─┤M├──────\n",
       "«     │  diffusion_gate ││  oracle_gate ││  diffusion_gate │ ║ └╥┘┌─┐   \n",
       "«q_2: ┤2                ├┤2             ├┤2                ├─╫──╫─┤M├───\n",
       "«     │                 ││              ││                 │ ║  ║ └╥┘┌─┐\n",
       "«q_3: ┤3                ├┤3             ├┤3                ├─╫──╫──╫─┤M├\n",
       "«     └─────────────────┘└──────────────┘└─────────────────┘ ║  ║  ║ └╥┘\n",
       "«c_0: ═══════════════════════════════════════════════════════╩══╬══╬══╬═\n",
       "«                                                               ║  ║  ║ \n",
       "«c_1: ══════════════════════════════════════════════════════════╩══╬══╬═\n",
       "«                                                                  ║  ║ \n",
       "«c_2: ═════════════════════════════════════════════════════════════╩══╬═\n",
       "«                                                                     ║ \n",
       "«c_3: ════════════════════════════════════════════════════════════════╩═\n",
       "«                                                                       </pre>"
      ],
      "text/plain": [
       "     ┌───┐┌──────────────┐┌─────────────────┐┌──────────────┐»\n",
       "q_0: ┤ H ├┤0             ├┤0                ├┤0             ├»\n",
       "     ├───┤│              ││                 ││              │»\n",
       "q_1: ┤ H ├┤1             ├┤1                ├┤1             ├»\n",
       "     ├───┤│  oracle_gate ││  diffusion_gate ││  oracle_gate │»\n",
       "q_2: ┤ H ├┤2             ├┤2                ├┤2             ├»\n",
       "     ├───┤│              ││                 ││              │»\n",
       "q_3: ┤ H ├┤3             ├┤3                ├┤3             ├»\n",
       "     └───┘└──────────────┘└─────────────────┘└──────────────┘»\n",
       "c_0: ════════════════════════════════════════════════════════»\n",
       "                                                             »\n",
       "c_1: ════════════════════════════════════════════════════════»\n",
       "                                                             »\n",
       "c_2: ════════════════════════════════════════════════════════»\n",
       "                                                             »\n",
       "c_3: ════════════════════════════════════════════════════════»\n",
       "                                                             »\n",
       "«     ┌─────────────────┐┌──────────────┐┌─────────────────┐┌─┐         \n",
       "«q_0: ┤0                ├┤0             ├┤0                ├┤M├─────────\n",
       "«     │                 ││              ││                 │└╥┘┌─┐      \n",
       "«q_1: ┤1                ├┤1             ├┤1                ├─╫─┤M├──────\n",
       "«     │  diffusion_gate ││  oracle_gate ││  diffusion_gate │ ║ └╥┘┌─┐   \n",
       "«q_2: ┤2                ├┤2             ├┤2                ├─╫──╫─┤M├───\n",
       "«     │                 ││              ││                 │ ║  ║ └╥┘┌─┐\n",
       "«q_3: ┤3                ├┤3             ├┤3                ├─╫──╫──╫─┤M├\n",
       "«     └─────────────────┘└──────────────┘└─────────────────┘ ║  ║  ║ └╥┘\n",
       "«c_0: ═══════════════════════════════════════════════════════╩══╬══╬══╬═\n",
       "«                                                               ║  ║  ║ \n",
       "«c_1: ══════════════════════════════════════════════════════════╩══╬══╬═\n",
       "«                                                                  ║  ║ \n",
       "«c_2: ═════════════════════════════════════════════════════════════╩══╬═\n",
       "«                                                                     ║ \n",
       "«c_3: ════════════════════════════════════════════════════════════════╩═\n",
       "«                                                                       "
      ]
     },
     "execution_count": 16,
     "metadata": {},
     "output_type": "execute_result"
    }
   ],
   "source": [
    "circuit.draw()"
   ]
  },
  {
   "cell_type": "code",
   "execution_count": null,
   "metadata": {},
   "outputs": [],
   "source": []
  },
  {
   "cell_type": "code",
   "execution_count": null,
   "metadata": {},
   "outputs": [],
   "source": []
  }
 ],
 "metadata": {
  "kernelspec": {
   "display_name": "Python 3",
   "language": "python",
   "name": "python3"
  },
  "language_info": {
   "codemirror_mode": {
    "name": "ipython",
    "version": 3
   },
   "file_extension": ".py",
   "mimetype": "text/x-python",
   "name": "python",
   "nbconvert_exporter": "python",
   "pygments_lexer": "ipython3",
   "version": "3.7.4"
  }
 },
 "nbformat": 4,
 "nbformat_minor": 2
}
