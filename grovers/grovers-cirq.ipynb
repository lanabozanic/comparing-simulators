{
 "cells": [
  {
   "cell_type": "code",
   "execution_count": 1,
   "metadata": {},
   "outputs": [],
   "source": [
    "import cirq\n",
    "import numpy as np\n",
    "import time"
   ]
  },
  {
   "cell_type": "code",
   "execution_count": 2,
   "metadata": {},
   "outputs": [],
   "source": [
    "SEARCHED_STRING = \"101001101110\"\n",
    "\n",
    "N = len(SEARCHED_STRING)\n",
    "\n",
    "q_reg = cirq.LineQubit.range(N)\n",
    "\n",
    "circuit = cirq.Circuit()"
   ]
  },
  {
   "cell_type": "code",
   "execution_count": 3,
   "metadata": {},
   "outputs": [
    {
     "name": "stdout",
     "output_type": "stream",
     "text": [
      "<class 'numpy.ndarray'>\n",
      "<class 'numpy.ndarray'>\n"
     ]
    }
   ],
   "source": [
    "oracle = np.zeros(shape=(2 ** N, 2 ** N))\n",
    "for b in range(2 ** N):\n",
    "    if np.binary_repr(b, N) == SEARCHED_STRING:\n",
    "        oracle[b, b] = -1\n",
    "    else:\n",
    "        oracle[b, b] = 1\n",
    "\n",
    "diffusion = 2.0 * np.full((2 ** N, 2 ** N), 1 / (2 ** N)) - np.eye(2 ** N)\n",
    "print(type(diffusion))"
   ]
  },
  {
   "cell_type": "code",
   "execution_count": 4,
   "metadata": {},
   "outputs": [],
   "source": [
    "\n",
    "class Oracle_Gate(cirq.Gate):\n",
    "    \n",
    "    def _num_qubits_(self):\n",
    "        self.num_qubits = N\n",
    "        return self.num_qubits\n",
    "        \n",
    "    def _unitary_(self):\n",
    "        # Our input is q = a[0] + b[1]\n",
    "        # And our output becomes q = b[0] + a[1]\n",
    "        return oracle\n",
    "\n",
    "class Diffusion_Gate(cirq.Gate):\n",
    "    def _num_qubits_(self):\n",
    "        self.num_qubits = N\n",
    "        return self.num_qubits\n",
    "    \n",
    "    def _unitary_(self):\n",
    "        return diffusion"
   ]
  },
  {
   "cell_type": "code",
   "execution_count": 5,
   "metadata": {},
   "outputs": [],
   "source": [
    "N_ITER = int(np.pi / 4 * np.sqrt(2 ** N))"
   ]
  },
  {
   "cell_type": "code",
   "execution_count": 6,
   "metadata": {},
   "outputs": [],
   "source": [
    "\n",
    "for i in range(N - 1):\n",
    "    circuit.append(cirq.H.on(q_reg[i]))\n",
    "\n",
    "for i in range(N_ITER):\n",
    "    circuit.append(Oracle_Gate().on(q_reg[0], q_reg[1], q_reg[2], q_reg[3], q_reg[4], q_reg[5], q_reg[6], q_reg[7], q_reg[8], q_reg[9], q_reg[10], q_reg[11]))\n",
    "    \n",
    "    circuit.append(Diffusion_Gate().on(q_reg[0], q_reg[1], q_reg[2], q_reg[3], q_reg[4], q_reg[5], q_reg[6], q_reg[7], q_reg[8], q_reg[9], q_reg[10], q_reg[11]))\n",
    "\n",
    "for i in range(N):\n",
    "        circuit.append(cirq.measure(q_reg[i]))\n"
   ]
  },
  {
   "cell_type": "code",
   "execution_count": 7,
   "metadata": {},
   "outputs": [
    {
     "name": "stdout",
     "output_type": "stream",
     "text": [
      "time = 6.68125296\n",
      "0=0\n",
      "1=1\n",
      "10=1\n",
      "11=0\n",
      "2=0\n",
      "3=1\n",
      "4=0\n",
      "5=1\n",
      "6=1\n",
      "7=0\n",
      "8=0\n",
      "9=1\n",
      "time = 6.68125296\n",
      "0=0\n",
      "1=1\n",
      "10=1\n",
      "11=0\n",
      "2=0\n",
      "3=1\n",
      "4=0\n",
      "5=1\n",
      "6=1\n",
      "7=0\n",
      "8=0\n",
      "9=1\n"
     ]
    }
   ],
   "source": [
    "sim_backend = cirq.Simulator()\n",
    "\n",
    "start = time.time()\n",
    "\n",
    "result = sim_backend.run(program=circuit, repetitions=1)\n",
    "\n",
    "elapsed = time.time() - start\n",
    "\n",
    "print(\"time = {:.9}\".format(elapsed))\n",
    "print(result)"
   ]
  },
  {
   "cell_type": "code",
   "execution_count": null,
   "metadata": {},
   "outputs": [],
   "source": []
  },
  {
   "cell_type": "code",
   "execution_count": null,
   "metadata": {},
   "outputs": [],
   "source": []
  }
 ],
 "metadata": {
  "kernelspec": {
   "display_name": "Python 3",
   "language": "python",
   "name": "python3"
  },
  "language_info": {
   "codemirror_mode": {
    "name": "ipython",
    "version": 3
   },
   "file_extension": ".py",
   "mimetype": "text/x-python",
   "name": "python",
   "nbconvert_exporter": "python",
   "pygments_lexer": "ipython3",
   "version": "3.7.4"
  }
 },
 "nbformat": 4,
 "nbformat_minor": 2
}
