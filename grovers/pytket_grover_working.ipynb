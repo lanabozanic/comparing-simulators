{
 "cells": [
  {
   "cell_type": "markdown",
   "metadata": {},
   "source": [
    "All the backends supported are as follow: \n",
    "- ProjectQ simulator\n",
    "- Aer simulators (statevector, QASM, and unitary)\n",
    "- IBMQ devices\n",
    "- Rigetti QCS devices\n",
    "- Rigetti QVM (for device simulation or statevector)\n",
    "- AQT devices\n",
    "- Honeywell devices\n",
    "- Q# simulators"
   ]
  },
  {
   "cell_type": "code",
   "execution_count": 2,
   "metadata": {},
   "outputs": [],
   "source": [
    "import numpy as np\n",
    "from pytket import Circuit, OpType\n",
    "from pytket.qiskit import qiskit_to_tk\n",
    "\n",
    "from qiskit.quantum_info.operators import Operator\n",
    "from qiskit import QuantumCircuit"
   ]
  },
  {
   "cell_type": "code",
   "execution_count": 3,
   "metadata": {},
   "outputs": [],
   "source": [
    "SEARCHED_STRING = \"11\"\n",
    "\n",
    "N = len(SEARCHED_STRING)\n",
    "oracle = np.zeros(shape=(2 ** N, 2 ** N))\n",
    "for b in range(2 ** N):\n",
    "    if np.binary_repr(b, N) == SEARCHED_STRING:\n",
    "        oracle[b, b] = -1\n",
    "    else:\n",
    "        oracle[b, b] = 1\n",
    "        \n",
    "diffusion = 2.0 * np.full((2 ** N, 2 ** N), 1 / (2 ** N)) - np.eye(2 ** N)        \n",
    "\n",
    "#print(oracle)\n",
    "#print(diffusion)"
   ]
  },
  {
   "cell_type": "code",
   "execution_count": 4,
   "metadata": {},
   "outputs": [],
   "source": [
    "circuit = QuantumCircuit(N)\n",
    "\n",
    "for i in range(N):\n",
    "    circuit.i(i)\n",
    "\n",
    "for i in range(N):\n",
    "    circuit.h(i)"
   ]
  },
  {
   "cell_type": "code",
   "execution_count": 5,
   "metadata": {},
   "outputs": [],
   "source": [
    "oracle_gate = Operator(oracle)\n",
    "diffusion_gate = Operator(diffusion)"
   ]
  },
  {
   "cell_type": "code",
   "execution_count": 6,
   "metadata": {},
   "outputs": [],
   "source": [
    "N_ITER = int(np.pi / 4 * np.sqrt(2 ** N))"
   ]
  },
  {
   "cell_type": "code",
   "execution_count": 7,
   "metadata": {},
   "outputs": [],
   "source": [
    "oracle_diffusion_qubit_targets = []\n",
    "\n",
    "for i in range(N):\n",
    "    oracle_diffusion_qubit_targets.append(i)\n",
    "    \n",
    "for i in range(N_ITER):\n",
    "    circuit.unitary(oracle_gate, oracle_diffusion_qubit_targets, label='oracle_gate')\n",
    "\n",
    "    circuit.unitary(diffusion_gate, oracle_diffusion_qubit_targets, label='diffusion_gate')"
   ]
  },
  {
   "cell_type": "code",
   "execution_count": 13,
   "metadata": {},
   "outputs": [],
   "source": [
    "circ = qiskit_to_tk(circuit)"
   ]
  },
  {
   "cell_type": "code",
   "execution_count": 14,
   "metadata": {},
   "outputs": [],
   "source": [
    "from pytket.backends.ibm import AerStateBackend, AerBackend, AerUnitaryBackend, IBMQBackend"
   ]
  },
  {
   "cell_type": "code",
   "execution_count": 15,
   "metadata": {},
   "outputs": [
    {
     "data": {
      "text/plain": [
       "[noop q[0]; noop q[1]; H q[0]; H q[1]; Unitary2qBox q[0], q[1]; Unitary2qBox q[0], q[1]; Barrier q[0], q[1]; Measure q[0] --> meas[0]; Measure q[1] --> meas[1]; Measure q[0] --> c[0]; Measure q[1] --> c[1]; ]"
      ]
     },
     "execution_count": 15,
     "metadata": {},
     "output_type": "execute_result"
    }
   ],
   "source": [
    "circ.measure_all()"
   ]
  },
  {
   "cell_type": "code",
   "execution_count": 17,
   "metadata": {},
   "outputs": [
    {
     "name": "stdout",
     "output_type": "stream",
     "text": [
      "0.009415864944458008\n",
      "[[1 1 1 1]\n",
      " [1 1 1 1]\n",
      " [1 1 1 1]\n",
      " [1 1 1 1]\n",
      " [1 1 1 1]\n",
      " [1 1 1 1]\n",
      " [1 1 1 1]\n",
      " [1 1 1 1]\n",
      " [1 1 1 1]\n",
      " [1 1 1 1]]\n"
     ]
    }
   ],
   "source": [
    "import time\n",
    "start_time = time.time()\n",
    "\n",
    "aer_b = AerBackend()\n",
    "shots_handle = aer_b.process_circuit(circ, n_shots=10, seed=1)\n",
    "\n",
    "print(time.time() - start_time)\n",
    "\n",
    "shots = aer_b.get_shots(shots_handle)\n",
    "print(shots)"
   ]
  }
 ],
 "metadata": {
  "kernelspec": {
   "display_name": "Python 3",
   "language": "python",
   "name": "python3"
  },
  "language_info": {
   "codemirror_mode": {
    "name": "ipython",
    "version": 3
   },
   "file_extension": ".py",
   "mimetype": "text/x-python",
   "name": "python",
   "nbconvert_exporter": "python",
   "pygments_lexer": "ipython3",
   "version": "3.8.2"
  }
 },
 "nbformat": 4,
 "nbformat_minor": 4
}
