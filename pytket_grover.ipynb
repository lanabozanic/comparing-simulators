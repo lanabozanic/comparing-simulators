{
 "cells": [
  {
   "cell_type": "markdown",
   "metadata": {},
   "source": [
    "All the backends supported are as follow: \n",
    "- ProjectQ simulator\n",
    "- Aer simulators (statevector, QASM, and unitary)\n",
    "- IBMQ devices\n",
    "- Rigetti QCS devices\n",
    "- Rigetti QVM (for device simulation or statevector)\n",
    "- AQT devices\n",
    "- Honeywell devices\n",
    "- Q# simulators"
   ]
  },
  {
   "cell_type": "code",
   "execution_count": 1,
   "metadata": {},
   "outputs": [],
   "source": [
    "from pytket.backends.ibm import AerStateBackend, AerBackend, AerUnitaryBackend, IBMQBackend\n",
    "#from pytket.backends.projectq import ProjectQBackend"
   ]
  },
  {
   "cell_type": "code",
   "execution_count": 2,
   "metadata": {},
   "outputs": [],
   "source": [
    "from pytket import Circuit"
   ]
  },
  {
   "cell_type": "code",
   "execution_count": 3,
   "metadata": {},
   "outputs": [
    {
     "data": {
      "text/plain": [
       "[H q[0]; H q[1]; CZ q[0], q[1]; H q[0]; H q[1]; X q[0]; X q[1]; CZ q[0], q[1]; X q[0]; X q[1]; H q[0]; H q[1]; ]"
      ]
     },
     "execution_count": 3,
     "metadata": {},
     "output_type": "execute_result"
    }
   ],
   "source": [
    "circ = Circuit(2)\n",
    "circ.H(0)\n",
    "circ.H(1)\n",
    "circ.CZ(0,1)\n",
    "circ.H(0)\n",
    "circ.H(1)\n",
    "circ.X(0)\n",
    "circ.X(1)\n",
    "circ.CZ(0,1)\n",
    "circ.X(0)\n",
    "circ.X(1)\n",
    "circ.H(0)\n",
    "circ.H(1)"
   ]
  },
  {
   "cell_type": "code",
   "execution_count": 4,
   "metadata": {},
   "outputs": [
    {
     "data": {
      "text/plain": [
       "[H q[0]; H q[1]; CZ q[0], q[1]; H q[0]; H q[1]; X q[0]; X q[1]; CZ q[0], q[1]; X q[0]; X q[1]; H q[0]; H q[1]; Measure q[0] --> c[0]; Measure q[1] --> c[1]; ]"
      ]
     },
     "execution_count": 4,
     "metadata": {},
     "output_type": "execute_result"
    }
   ],
   "source": [
    "circ.measure_all()"
   ]
  },
  {
   "cell_type": "code",
   "execution_count": 5,
   "metadata": {},
   "outputs": [
    {
     "name": "stdout",
     "output_type": "stream",
     "text": [
      "[[1 1]\n",
      " [1 1]\n",
      " [1 1]\n",
      " [1 1]\n",
      " [1 1]\n",
      " [1 1]\n",
      " [1 1]\n",
      " [1 1]\n",
      " [1 1]\n",
      " [1 1]]\n",
      "0.025595426559448242\n"
     ]
    }
   ],
   "source": [
    "import time\n",
    "start_time = time.time()\n",
    "\n",
    "aer_b = AerBackend()\n",
    "shots_handle = aer_b.process_circuit(circ, n_shots=10, seed=1)\n",
    "\n",
    "shots = aer_b.get_shots(shots_handle)\n",
    "print(shots)\n",
    "\n",
    "print(time.time() - start_time)"
   ]
  },
  {
   "cell_type": "code",
   "execution_count": null,
   "metadata": {},
   "outputs": [],
   "source": []
  }
 ],
 "metadata": {
  "kernelspec": {
   "display_name": "Python 3",
   "language": "python",
   "name": "python3"
  },
  "language_info": {
   "codemirror_mode": {
    "name": "ipython",
    "version": 3
   },
   "file_extension": ".py",
   "mimetype": "text/x-python",
   "name": "python",
   "nbconvert_exporter": "python",
   "pygments_lexer": "ipython3",
   "version": "3.8.2"
  }
 },
 "nbformat": 4,
 "nbformat_minor": 4
}
