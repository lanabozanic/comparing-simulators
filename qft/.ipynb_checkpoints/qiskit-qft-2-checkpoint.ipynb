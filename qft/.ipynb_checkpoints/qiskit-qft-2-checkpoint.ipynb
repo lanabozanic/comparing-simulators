{
 "cells": [
  {
   "cell_type": "code",
   "execution_count": 9,
   "metadata": {},
   "outputs": [],
   "source": [
    "# -*- coding: utf-8 -*-\n",
    "\n",
    "# This code is part of Qiskit.\n",
    "#\n",
    "# (C) Copyright IBM 2017.\n",
    "#\n",
    "# This code is licensed under the Apache License, Version 2.0. You may\n",
    "# obtain a copy of this license in the LICENSE.txt file in the root directory\n",
    "# of this source tree or at http://www.apache.org/licenses/LICENSE-2.0.\n",
    "#\n",
    "# Any modifications or derivative works of this code must retain this\n",
    "# copyright notice, and modified files need to carry a notice indicating\n",
    "# that they have been altered from the originals.\n",
    "\n",
    "\"\"\"\n",
    "Quantum Fourier Transform examples.\n",
    "\"\"\"\n",
    "\n",
    "import math\n",
    "from qiskit import QuantumCircuit\n",
    "from qiskit import execute, BasicAer\n",
    "import timeit\n",
    "\n",
    "\n",
    "###############################################################\n",
    "# make the qft\n",
    "###############################################################\n",
    "\n",
    "def input_state(circ, n):\n",
    "    \"\"\"n-qubit input state for QFT that produces output 1.\"\"\"\n",
    "    for j in range(n):\n",
    "        circ.h(j)\n",
    "        circ.u1(-math.pi/float(2**(j)), j)\n",
    "\n",
    "def qft(circ, n):\n",
    "    \"\"\"n-qubit QFT on q in circ.\"\"\"\n",
    "    for j in range(n):\n",
    "        for k in range(j):\n",
    "            circ.cu1(math.pi/float(2**(j-k)), j, k)\n",
    "        circ.h(j)\n",
    "        \n",
    "def swap_registers(circuit, n):\n",
    "    for qubit in range(n//2):\n",
    "        circuit.swap(qubit, n-qubit-1)\n",
    "    return circuit\n"
   ]
  },
  {
   "cell_type": "code",
   "execution_count": 10,
   "metadata": {},
   "outputs": [],
   "source": [
    "num_qubits = 2\n",
    "qft_test = QuantumCircuit(num_qubits, num_qubits, name=\"qft_test\")\n",
    "#qft4 = QuantumCircuit(5, 5, name=\"qft4\")\n",
    "#qft5 = QuantumCircuit(5, 5, name=\"qft5\")"
   ]
  },
  {
   "cell_type": "code",
   "execution_count": 11,
   "metadata": {},
   "outputs": [],
   "source": [
    "input_state(qft_test, num_qubits)\n",
    "#print(input_state(qft_test, num_qubits))\n",
    "qft_test.barrier()\n",
    "\n",
    "qft(qft_test, num_qubits)\n",
    "\n",
    "qft_test.barrier()\n",
    "\n",
    "swap_registers(qft_test, num_qubits)\n",
    "\n",
    "for j in range(num_qubits):\n",
    "    qft_test.measure(j, j)\n"
   ]
  },
  {
   "cell_type": "code",
   "execution_count": 12,
   "metadata": {},
   "outputs": [],
   "source": [
    "#print(qft_test)"
   ]
  },
  {
   "cell_type": "code",
   "execution_count": 16,
   "metadata": {},
   "outputs": [
    {
     "name": "stdout",
     "output_type": "stream",
     "text": [
      "Qasm simulator\n",
      "{'10': 1}\n",
      "0.021657176999994476\n"
     ]
    }
   ],
   "source": [
    "print('Qasm simulator')\n",
    "sim_backend = BasicAer.get_backend('qasm_simulator')\n",
    "\n",
    "start_time = timeit.default_timer()\n",
    "\n",
    "job = execute(qft_test, sim_backend, shots=1)\n",
    "\n",
    "elapsed = timeit.default_timer() - start_time\n",
    "\n",
    "result = job.result()\n",
    "\n",
    "\n",
    "\n",
    "print(result.get_counts())\n",
    "print(elapsed)"
   ]
  },
  {
   "cell_type": "code",
   "execution_count": null,
   "metadata": {},
   "outputs": [],
   "source": []
  }
 ],
 "metadata": {
  "kernelspec": {
   "display_name": "Python 3",
   "language": "python",
   "name": "python3"
  },
  "language_info": {
   "codemirror_mode": {
    "name": "ipython",
    "version": 3
   },
   "file_extension": ".py",
   "mimetype": "text/x-python",
   "name": "python",
   "nbconvert_exporter": "python",
   "pygments_lexer": "ipython3",
   "version": "3.7.4"
  }
 },
 "nbformat": 4,
 "nbformat_minor": 2
}
