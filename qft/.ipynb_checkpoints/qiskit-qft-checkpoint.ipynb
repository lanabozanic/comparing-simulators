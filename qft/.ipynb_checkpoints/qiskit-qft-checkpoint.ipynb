{
 "cells": [
  {
   "cell_type": "code",
   "execution_count": 3,
   "metadata": {},
   "outputs": [],
   "source": [
    "from qiskit import *\n",
    "from qiskit.circuit.library import CRZGate\n",
    "import math\n",
    "import os\n",
    "import sys\n",
    "import timeit\n",
    "\n",
    "num_cores = 1\n",
    "n = 2  # number of qubits\n",
    "N = 2 ** n"
   ]
  },
  {
   "cell_type": "code",
   "execution_count": 4,
   "metadata": {},
   "outputs": [
    {
     "name": "stdout",
     "output_type": "stream",
     "text": [
      "num cores: 1\n",
      "num qubits: 2\n",
      "time: 0.008671008\n"
     ]
    }
   ],
   "source": [
    "\n",
    "q = QuantumRegister(n)\n",
    "qc = QuantumCircuit(q)\n",
    "\n",
    "# start timing\n",
    "start_time = timeit.default_timer()\n",
    "\n",
    "for i in range(n):\n",
    "    qc.h(q[i])\n",
    "    for j in range(2, n - i + 1):\n",
    "        qc.crz(2 * math.pi / 2 ** j, q[i + j - 1], q[i])\n",
    "\n",
    "for i in range(n // 2):\n",
    "    qc.swap(q[i], q[n - 1 - i])\n",
    "\n",
    "# Compile and run the Quantum circuit on a simulator backend\n",
    "\n",
    "\n",
    "all_local_backends = Aer.backends(local=True)  # returns a list of local backends\n",
    "qasm_simulator = all_local_backends[0]\n",
    "statevector_simulator = all_local_backends[1]\n",
    "job_sim = execute(qc, backend=qasm_simulator, shots=1)\n",
    "result = job_sim.result()\n",
    "\n",
    "elapsed = timeit.default_timer() - start_time\n",
    "# end timing\n",
    "\n",
    "print(\"num cores: {}\\nnum qubits: {}\\ntime: {:.9}\".format(num_cores, n, elapsed))"
   ]
  },
  {
   "cell_type": "code",
   "execution_count": 10,
   "metadata": {},
   "outputs": [],
   "source": [
    "qc.draw()"
   ]
  },
  {
   "cell_type": "code",
   "execution_count": null,
   "metadata": {},
   "outputs": [],
   "source": []
  }
 ],
 "metadata": {
  "kernelspec": {
   "display_name": "Python 3",
   "language": "python",
   "name": "python3"
  },
  "language_info": {
   "codemirror_mode": {
    "name": "ipython",
    "version": 3
   },
   "file_extension": ".py",
   "mimetype": "text/x-python",
   "name": "python",
   "nbconvert_exporter": "python",
   "pygments_lexer": "ipython3",
   "version": "3.8.2"
  }
 },
 "nbformat": 4,
 "nbformat_minor": 2
}
