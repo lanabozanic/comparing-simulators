{
 "cells": [
  {
   "cell_type": "code",
   "execution_count": null,
   "metadata": {},
   "outputs": [],
   "source": [
    "#code referenced from https://github.com/vm6502q/simulator-benchmarks/blob/master/cirq_qft.py"
   ]
  },
  {
   "cell_type": "code",
   "execution_count": 32,
   "metadata": {},
   "outputs": [],
   "source": [
    "import click\n",
    "import time\n",
    "import random\n",
    "import csv\n",
    "import os.path\n",
    "import math\n",
    "\n",
    "import cirq\n",
    "\n",
    "# Implementation of the Quantum Fourier Transform\n",
    "def qft(num_qubits, reg):\n",
    "    # Quantum Fourier Transform\n",
    "    circ = cirq.Circuit()\n",
    "    for j in range(num_qubits):\n",
    "        for k in range(j):\n",
    "            circ.append(cirq.CZPowGate(exponent=math.pi/float(2**(j-k))).on(reg[j], reg[k]))\n",
    "        circ.append(cirq.H(reg[j]))\n",
    "        \n",
    "    for j in range(num_qubits//2):\n",
    "        circ.append(cirq.SWAP(reg[j], reg[num_qubits-j-1]))\n",
    "        \n",
    "    for j in range(num_qubits):\n",
    "        circ.append(cirq.measure(reg[j]))\n",
    "\n",
    "    return circ\n",
    "\n",
    "sim_backend = cirq.Simulator()\n",
    "\n",
    "def bench(num_qubits):\n",
    "    reg = cirq.LineQubit.range(num_qubits)\n",
    "    circ = qft(num_qubits, reg)\n",
    "    start = time.time()\n",
    "    sim_backend.run(program=circ, repetitions=1)\n",
    "    return time.time() - start"
   ]
  },
  {
   "cell_type": "code",
   "execution_count": 63,
   "metadata": {},
   "outputs": [
    {
     "name": "stdout",
     "output_type": "stream",
     "text": [
      "time = 0.0350100994\n"
     ]
    }
   ],
   "source": [
    "elapsed = bench(14)\n",
    "print(\"time = {:.9}\".format(elapsed))"
   ]
  },
  {
   "cell_type": "code",
   "execution_count": null,
   "metadata": {},
   "outputs": [],
   "source": []
  }
 ],
 "metadata": {
  "kernelspec": {
   "display_name": "Python 3",
   "language": "python",
   "name": "python3"
  },
  "language_info": {
   "codemirror_mode": {
    "name": "ipython",
    "version": 3
   },
   "file_extension": ".py",
   "mimetype": "text/x-python",
   "name": "python",
   "nbconvert_exporter": "python",
   "pygments_lexer": "ipython3",
   "version": "3.7.4"
  }
 },
 "nbformat": 4,
 "nbformat_minor": 2
}
