{
 "cells": [
  {
   "cell_type": "code",
   "execution_count": 1,
   "metadata": {},
   "outputs": [],
   "source": [
    "# Modified code from Qiskit\n",
    "\n",
    "import numpy as np\n",
    "import math\n",
    "\n",
    "from pytket import Circuit, OpType\n",
    "from pytket.qiskit import qiskit_to_tk\n",
    "\n",
    "from qiskit.quantum_info.operators import Operator\n",
    "from qiskit import QuantumCircuit, execute, BasicAer"
   ]
  },
  {
   "cell_type": "code",
   "execution_count": 2,
   "metadata": {},
   "outputs": [],
   "source": [
    "# make the qft\n",
    "\n",
    "def input_state(circ, n):\n",
    "    \"\"\"n-qubit input state for QFT that produces output 1.\"\"\"\n",
    "    for j in range(n):\n",
    "        circ.h(j)\n",
    "        circ.u1(-math.pi/float(2**(j)), j)\n",
    "\n",
    "def qft(circ, n):\n",
    "    \"\"\"n-qubit QFT on q in circ.\"\"\"\n",
    "    for j in range(n):\n",
    "        for k in range(j):\n",
    "            circ.cu1(math.pi/float(2**(j-k)), j, k)\n",
    "        circ.h(j)\n",
    "        \n",
    "def swap_registers(circuit, n):\n",
    "    for qubit in range(n//2):\n",
    "        circuit.swap(qubit, n-qubit-1)\n",
    "    return circuit"
   ]
  },
  {
   "cell_type": "code",
   "execution_count": 3,
   "metadata": {},
   "outputs": [],
   "source": [
    "num_qubits = 14\n",
    "qft_test = QuantumCircuit(num_qubits, num_qubits, name=\"qft_test\")"
   ]
  },
  {
   "cell_type": "code",
   "execution_count": 4,
   "metadata": {},
   "outputs": [],
   "source": [
    "input_state(qft_test, num_qubits)\n",
    "#print(input_state(qft_test, num_qubits))\n",
    "qft_test.barrier()\n",
    "\n",
    "qft(qft_test, num_qubits)\n",
    "\n",
    "qft_test.barrier()\n",
    "\n",
    "swap_registers(qft_test, num_qubits)\n",
    "\n",
    "for j in range(num_qubits):\n",
    "    qft_test.measure(j, j)"
   ]
  },
  {
   "cell_type": "code",
   "execution_count": 5,
   "metadata": {},
   "outputs": [],
   "source": [
    "circ = qiskit_to_tk(qft_test)"
   ]
  },
  {
   "cell_type": "code",
   "execution_count": 6,
   "metadata": {},
   "outputs": [],
   "source": [
    "from pytket.backends.ibm import AerStateBackend, AerBackend, AerUnitaryBackend, IBMQBackend"
   ]
  },
  {
   "cell_type": "code",
   "execution_count": 7,
   "metadata": {},
   "outputs": [
    {
     "data": {
      "text/plain": [
       "[H q[0]; H q[1]; H q[2]; H q[3]; H q[4]; H q[5]; H q[6]; H q[7]; H q[8]; H q[9]; H q[10]; H q[11]; H q[12]; H q[13]; U1(1*PI) q[0]; U1(1.5*PI) q[1]; U1(1.75*PI) q[2]; U1(1.875*PI) q[3]; U1(1.9375*PI) q[4]; U1(1.96875*PI) q[5]; U1(1.98438*PI) q[6]; U1(1.99219*PI) q[7]; U1(1.99609*PI) q[8]; U1(1.99805*PI) q[9]; U1(1.99902*PI) q[10]; U1(1.99951*PI) q[11]; U1(1.99976*PI) q[12]; U1(1.99988*PI) q[13]; Barrier q[0], q[1], q[2], q[3], q[4], q[5], q[6], q[7], q[8], q[9], q[10], q[11], q[12], q[13]; H q[0]; CU1(0.5*PI) q[1], q[0]; CU1(0.25*PI) q[2], q[0]; H q[1]; CU1(0.125*PI) q[3], q[0]; CU1(0.5*PI) q[2], q[1]; CU1(0.0625*PI) q[4], q[0]; CU1(0.25*PI) q[3], q[1]; H q[2]; CU1(0.03125*PI) q[5], q[0]; CU1(0.125*PI) q[4], q[1]; CU1(0.5*PI) q[3], q[2]; CU1(0.015625*PI) q[6], q[0]; CU1(0.0625*PI) q[5], q[1]; CU1(0.25*PI) q[4], q[2]; H q[3]; CU1(0.0078125*PI) q[7], q[0]; CU1(0.03125*PI) q[6], q[1]; CU1(0.125*PI) q[5], q[2]; CU1(0.5*PI) q[4], q[3]; CU1(0.00390625*PI) q[8], q[0]; CU1(0.015625*PI) q[7], q[1]; CU1(0.0625*PI) q[6], q[2]; CU1(0.25*PI) q[5], q[3]; H q[4]; CU1(0.00195312*PI) q[9], q[0]; CU1(0.0078125*PI) q[8], q[1]; CU1(0.03125*PI) q[7], q[2]; CU1(0.125*PI) q[6], q[3]; CU1(0.5*PI) q[5], q[4]; CU1(0.000976562*PI) q[10], q[0]; CU1(0.00390625*PI) q[9], q[1]; CU1(0.015625*PI) q[8], q[2]; CU1(0.0625*PI) q[7], q[3]; CU1(0.25*PI) q[6], q[4]; H q[5]; CU1(0.000488281*PI) q[11], q[0]; CU1(0.00195312*PI) q[10], q[1]; CU1(0.0078125*PI) q[9], q[2]; CU1(0.03125*PI) q[8], q[3]; CU1(0.125*PI) q[7], q[4]; CU1(0.5*PI) q[6], q[5]; CU1(0.000244141*PI) q[12], q[0]; CU1(0.000976562*PI) q[11], q[1]; CU1(0.00390625*PI) q[10], q[2]; CU1(0.015625*PI) q[9], q[3]; CU1(0.0625*PI) q[8], q[4]; CU1(0.25*PI) q[7], q[5]; H q[6]; CU1(0.00012207*PI) q[13], q[0]; CU1(0.000488281*PI) q[12], q[1]; CU1(0.00195312*PI) q[11], q[2]; CU1(0.0078125*PI) q[10], q[3]; CU1(0.03125*PI) q[9], q[4]; CU1(0.125*PI) q[8], q[5]; CU1(0.5*PI) q[7], q[6]; CU1(0.000244141*PI) q[13], q[1]; CU1(0.000976562*PI) q[12], q[2]; CU1(0.00390625*PI) q[11], q[3]; CU1(0.015625*PI) q[10], q[4]; CU1(0.0625*PI) q[9], q[5]; CU1(0.25*PI) q[8], q[6]; H q[7]; CU1(0.000488281*PI) q[13], q[2]; CU1(0.00195312*PI) q[12], q[3]; CU1(0.0078125*PI) q[11], q[4]; CU1(0.03125*PI) q[10], q[5]; CU1(0.125*PI) q[9], q[6]; CU1(0.5*PI) q[8], q[7]; CU1(0.000976562*PI) q[13], q[3]; CU1(0.00390625*PI) q[12], q[4]; CU1(0.015625*PI) q[11], q[5]; CU1(0.0625*PI) q[10], q[6]; CU1(0.25*PI) q[9], q[7]; H q[8]; CU1(0.00195312*PI) q[13], q[4]; CU1(0.0078125*PI) q[12], q[5]; CU1(0.03125*PI) q[11], q[6]; CU1(0.125*PI) q[10], q[7]; CU1(0.5*PI) q[9], q[8]; CU1(0.00390625*PI) q[13], q[5]; CU1(0.015625*PI) q[12], q[6]; CU1(0.0625*PI) q[11], q[7]; CU1(0.25*PI) q[10], q[8]; H q[9]; CU1(0.0078125*PI) q[13], q[6]; CU1(0.03125*PI) q[12], q[7]; CU1(0.125*PI) q[11], q[8]; CU1(0.5*PI) q[10], q[9]; CU1(0.015625*PI) q[13], q[7]; CU1(0.0625*PI) q[12], q[8]; CU1(0.25*PI) q[11], q[9]; H q[10]; CU1(0.03125*PI) q[13], q[8]; CU1(0.125*PI) q[12], q[9]; CU1(0.5*PI) q[11], q[10]; CU1(0.0625*PI) q[13], q[9]; CU1(0.25*PI) q[12], q[10]; H q[11]; CU1(0.125*PI) q[13], q[10]; CU1(0.5*PI) q[12], q[11]; CU1(0.25*PI) q[13], q[11]; H q[12]; CU1(0.5*PI) q[13], q[12]; H q[13]; Barrier q[0], q[1], q[2], q[3], q[4], q[5], q[6], q[7], q[8], q[9], q[10], q[11], q[12], q[13]; SWAP q[0], q[13]; SWAP q[1], q[12]; SWAP q[2], q[11]; SWAP q[3], q[10]; SWAP q[4], q[9]; SWAP q[5], q[8]; SWAP q[6], q[7]; Measure q[0] --> c[0]; Measure q[1] --> c[1]; Measure q[2] --> c[2]; Measure q[3] --> c[3]; Measure q[4] --> c[4]; Measure q[5] --> c[5]; Measure q[6] --> c[6]; Measure q[7] --> c[7]; Measure q[8] --> c[8]; Measure q[9] --> c[9]; Measure q[10] --> c[10]; Measure q[11] --> c[11]; Measure q[12] --> c[12]; Measure q[13] --> c[13]; Measure q[0] --> c[0]; Measure q[1] --> c[1]; Measure q[2] --> c[2]; Measure q[3] --> c[3]; Measure q[4] --> c[4]; Measure q[5] --> c[5]; Measure q[6] --> c[6]; Measure q[7] --> c[7]; Measure q[8] --> c[8]; Measure q[9] --> c[9]; Measure q[10] --> c[10]; Measure q[11] --> c[11]; Measure q[12] --> c[12]; Measure q[13] --> c[13]; ]"
      ]
     },
     "execution_count": 7,
     "metadata": {},
     "output_type": "execute_result"
    }
   ],
   "source": [
    "circ.measure_all()"
   ]
  },
  {
   "cell_type": "code",
   "execution_count": 8,
   "metadata": {},
   "outputs": [
    {
     "name": "stdout",
     "output_type": "stream",
     "text": [
      "0.10755777359008789\n",
      "[[0 0 0 0 0 0 0 0 0 0 0 0 0 1]]\n"
     ]
    }
   ],
   "source": [
    "import time\n",
    "start_time = time.time()\n",
    "\n",
    "aer_b = AerBackend()\n",
    "shots_handle = aer_b.process_circuit(circ, n_shots=1)\n",
    "\n",
    "print(time.time() - start_time)\n",
    "\n",
    "shots = aer_b.get_shots(shots_handle)\n",
    "print(shots)"
   ]
  },
  {
   "cell_type": "markdown",
   "metadata": {},
   "source": [
    "### 2 qubit: \n",
    "1. 0.008711576461791992\n",
    "2. 0.008688688278198242\n",
    "3. 0.00946354866027832\n",
    "4. 0.010691404342651367\n",
    "5. 0.008105993270874023\n",
    "\n",
    "### 4 qubit:\n",
    "1. 0.024836063385009766\n",
    "2. 0.030797719955444336\n",
    "3. 0.02894282341003418\n",
    "4. 0.022574901580810547\n",
    "5. 0.01936030387878418\n",
    "\n",
    "### 6 qubit: \n",
    "1. 0.03627204895019531\n",
    "2. 0.04448962211608887\n",
    "3. 0.037822723388671875\n",
    "4. 0.04763317108154297\n",
    "5. 0.03810858726501465\n",
    "\n",
    "### 8 qubit: \n",
    "1. 0.04945564270019531\n",
    "2. 0.06816315650939941\n",
    "3. 0.059113502502441406\n",
    "4. 0.05530047416687012\n",
    "5. 0.05479621887207031\n",
    "\n",
    "### 10 qubit: \n",
    "1. 0.07786226272583008\n",
    "2. 0.07643413543701172\n",
    "3. 0.08786582946777344\n",
    "4. 0.08284425735473633\n",
    "5. 0.07165408134460449\n",
    "\n",
    "### 14 qubit: \n",
    "1. 0.12307929992675781\n",
    "2. 0.1380598545074463\n",
    "3. 0.11955952644348145\n",
    "4. 0.10788846015930176\n",
    "5. 0.12963175773620605"
   ]
  },
  {
   "cell_type": "code",
   "execution_count": null,
   "metadata": {},
   "outputs": [],
   "source": []
  }
 ],
 "metadata": {
  "kernelspec": {
   "display_name": "Python 3",
   "language": "python",
   "name": "python3"
  },
  "language_info": {
   "codemirror_mode": {
    "name": "ipython",
    "version": 3
   },
   "file_extension": ".py",
   "mimetype": "text/x-python",
   "name": "python",
   "nbconvert_exporter": "python",
   "pygments_lexer": "ipython3",
   "version": "3.7.4"
  }
 },
 "nbformat": 4,
 "nbformat_minor": 4
}
