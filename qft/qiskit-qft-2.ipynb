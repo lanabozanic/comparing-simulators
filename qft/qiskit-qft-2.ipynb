{
 "cells": [
  {
   "cell_type": "code",
   "execution_count": 42,
   "metadata": {},
   "outputs": [],
   "source": [
    "# -*- coding: utf-8 -*-\n",
    "\n",
    "# This code is part of Qiskit.\n",
    "#\n",
    "# (C) Copyright IBM 2017.\n",
    "#\n",
    "# This code is licensed under the Apache License, Version 2.0. You may\n",
    "# obtain a copy of this license in the LICENSE.txt file in the root directory\n",
    "# of this source tree or at http://www.apache.org/licenses/LICENSE-2.0.\n",
    "#\n",
    "# Any modifications or derivative works of this code must retain this\n",
    "# copyright notice, and modified files need to carry a notice indicating\n",
    "# that they have been altered from the originals.\n",
    "\n",
    "\"\"\"\n",
    "Quantum Fourier Transform examples.\n",
    "\"\"\"\n",
    "\n",
    "import math\n",
    "from qiskit import QuantumCircuit, QuantumRegister\n",
    "from qiskit import execute, BasicAer\n",
    "import timeit\n",
    "from qiskit import Aer\n",
    "\n",
    "\n",
    "###############################################################\n",
    "# make the qft\n",
    "###############################################################\n",
    "\n",
    "\n",
    "n = 14\n",
    "#circ = QuantumCircuit(num_qubits, num_qubits, name=\"qft_test\")\n",
    "\n",
    "q = QuantumRegister(n)\n",
    "circ = QuantumCircuit(q)\n",
    "\n",
    "for j in range(n):\n",
    "        circ.h(j)\n",
    "\n",
    "for j in range(n):\n",
    "    for k in range(j):\n",
    "        circ.cu1(math.pi/float(2**(j-k)), j, k)\n",
    "        \n",
    "for qubit in range(n//2):\n",
    "    circ.swap(qubit, n-qubit-1)\n",
    "    \n",
    "qft_test.measure_all()\n"
   ]
  },
  {
   "cell_type": "code",
   "execution_count": 43,
   "metadata": {},
   "outputs": [],
   "source": [
    "\n",
    "#qft4 = QuantumCircuit(5, 5, name=\"qft4\")\n",
    "#qft5 = QuantumCircuit(5, 5, name=\"qft5\")"
   ]
  },
  {
   "cell_type": "code",
   "execution_count": 44,
   "metadata": {},
   "outputs": [],
   "source": [
    "input_state(qft_test, num_qubits)\n",
    "#print(input_state(qft_test, num_qubits))\n",
    "#qft_test.barrier()\n",
    "\n",
    "#qft(qft_test, num_qubits)\n",
    "\n",
    "#qft_test.barrier()\n",
    "\n",
    "#swap_registers(qft_test, num_qubits)\n"
   ]
  },
  {
   "cell_type": "code",
   "execution_count": 45,
   "metadata": {},
   "outputs": [],
   "source": [
    "#print(qft_test)"
   ]
  },
  {
   "cell_type": "code",
   "execution_count": 51,
   "metadata": {},
   "outputs": [
    {
     "name": "stdout",
     "output_type": "stream",
     "text": [
      "qasm simulator\n",
      "0.06551218032836914\n",
      "{'10111010011001': 1}\n",
      "0.09967387400001826\n"
     ]
    }
   ],
   "source": [
    "print('qasm simulator')\n",
    "#sim_backend = BasicAer.get_backend('qasm_simulator')\n",
    "\n",
    "all_local_backends = Aer.backends()  # returns a list of local backends\n",
    "sim_backend = all_local_backends[0]\n",
    "\n",
    "start_time = timeit.default_timer()\n",
    "\n",
    "job = execute(qft_test, sim_backend, shots=1)\n",
    "print(job.result().time_taken)\n",
    "\n",
    "elapsed = timeit.default_timer() - start_time\n",
    "\n",
    "#result = job.result()\n",
    "\n",
    "\n",
    "\n",
    "print(result.get_counts())\n",
    "print(elapsed)"
   ]
  },
  {
   "cell_type": "code",
   "execution_count": 50,
   "metadata": {},
   "outputs": [
    {
     "name": "stdout",
     "output_type": "stream",
     "text": [
      "[]\n"
     ]
    }
   ],
   "source": [
    "print(all_local_backends)"
   ]
  },
  {
   "cell_type": "code",
   "execution_count": null,
   "metadata": {},
   "outputs": [],
   "source": []
  }
 ],
 "metadata": {
  "kernelspec": {
   "display_name": "Python 3",
   "language": "python",
   "name": "python3"
  },
  "language_info": {
   "codemirror_mode": {
    "name": "ipython",
    "version": 3
   },
   "file_extension": ".py",
   "mimetype": "text/x-python",
   "name": "python",
   "nbconvert_exporter": "python",
   "pygments_lexer": "ipython3",
   "version": "3.7.4"
  }
 },
 "nbformat": 4,
 "nbformat_minor": 2
}
