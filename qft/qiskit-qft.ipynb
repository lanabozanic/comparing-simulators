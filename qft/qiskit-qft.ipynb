{
 "cells": [
  {
   "cell_type": "code",
   "execution_count": 18,
   "metadata": {},
   "outputs": [],
   "source": [
    "from qiskit import *\n",
    "from qiskit.circuit.library import CRZGate\n",
    "import math\n",
    "import os\n",
    "import sys\n",
    "import timeit\n",
    "\n",
    "num_cores = 1\n",
    "n = 14  # number of qubits\n",
    "N = 2 ** n"
   ]
  },
  {
   "cell_type": "code",
   "execution_count": 20,
   "metadata": {},
   "outputs": [
    {
     "name": "stdout",
     "output_type": "stream",
     "text": [
      "\n",
      "num qubits: 14\n",
      "time: 0.06085493\n"
     ]
    }
   ],
   "source": [
    "\n",
    "q = QuantumRegister(n)\n",
    "qc = QuantumCircuit(q)\n",
    "\n",
    "# start timing\n",
    "start_time = timeit.default_timer()\n",
    "\n",
    "for i in range(n):\n",
    "    qc.h(q[i])\n",
    "\n",
    "for j in range(n):\n",
    "    for k in range(j):\n",
    "        qc.cu1(math.pi/float(2**(j-k)), j, k)\n",
    "\n",
    "for i in range(n // 2):\n",
    "    qc.swap(q[i], q[n - 1 - i])\n",
    "\n",
    "\n",
    "qc.measure_all()  \n",
    "    \n",
    "# Compile and run the Quantum circuit on a simulator backend\n",
    "\n",
    "\n",
    "all_local_backends = Aer.backends(local=True)  # returns a list of local backends\n",
    "qasm_simulator = all_local_backends[0]\n",
    "#statevector_simulator = all_local_backends[1]\n",
    "job_sim = execute(qc, backend=qasm_simulator, shots=1)\n",
    "result = job_sim.result()\n",
    "\n",
    "elapsed = timeit.default_timer() - start_time\n",
    "# end timing\n",
    "\n",
    "print(\"\\nnum qubits: {}\\ntime: {:.9}\".format(n, elapsed))"
   ]
  },
  {
   "cell_type": "code",
   "execution_count": 9,
   "metadata": {},
   "outputs": [
    {
     "data": {
      "text/html": [
       "<pre style=\"word-wrap: normal;white-space: pre;background: #fff0;line-height: 1.1;font-family: &quot;Courier New&quot;,Courier,monospace\">      ┌───┐          \n",
       "q5_0: ┤ H ├─■──────X─\n",
       "      ├───┤ │pi/2  │ \n",
       "q5_1: ┤ H ├─■──────X─\n",
       "      └───┘          </pre>"
      ],
      "text/plain": [
       "      ┌───┐          \n",
       "q5_0: ┤ H ├─■──────X─\n",
       "      ├───┤ │pi/2  │ \n",
       "q5_1: ┤ H ├─■──────X─\n",
       "      └───┘          "
      ]
     },
     "execution_count": 9,
     "metadata": {},
     "output_type": "execute_result"
    }
   ],
   "source": [
    "qc.draw()"
   ]
  },
  {
   "cell_type": "code",
   "execution_count": 23,
   "metadata": {},
   "outputs": [
    {
     "name": "stdout",
     "output_type": "stream",
     "text": [
      "qasm_simulator\n",
      "statevector_simulator\n",
      "unitary_simulator\n",
      "pulse_simulator\n"
     ]
    }
   ],
   "source": [
    "for i in all_local_backends:\n",
    "    print(i)"
   ]
  },
  {
   "cell_type": "code",
   "execution_count": null,
   "metadata": {},
   "outputs": [],
   "source": []
  }
 ],
 "metadata": {
  "kernelspec": {
   "display_name": "Python 3",
   "language": "python",
   "name": "python3"
  },
  "language_info": {
   "codemirror_mode": {
    "name": "ipython",
    "version": 3
   },
   "file_extension": ".py",
   "mimetype": "text/x-python",
   "name": "python",
   "nbconvert_exporter": "python",
   "pygments_lexer": "ipython3",
   "version": "3.7.4"
  }
 },
 "nbformat": 4,
 "nbformat_minor": 2
}
