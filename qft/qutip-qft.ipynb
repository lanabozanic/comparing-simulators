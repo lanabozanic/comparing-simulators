{
 "cells": [
  {
   "cell_type": "code",
   "execution_count": 43,
   "metadata": {},
   "outputs": [
    {
     "name": "stderr",
     "output_type": "stream",
     "text": [
      "/opt/anaconda3/lib/python3.7/site-packages/ipykernel_launcher.py:37: DeprecationWarning: Importing functions/classes of the qip submodule directly from the namespace qutip is deprecated. Please import them from the submodule instead, e.g.\n",
      "from qutip.qip.operations import cnot\n",
      "from qutip.qip.circuit import QubitCircuit\n",
      "\n"
     ]
    },
    {
     "name": "stdout",
     "output_type": "stream",
     "text": [
      "num cores: 1\n",
      "num qubits: 12\n",
      "time: 0.239436611\n"
     ]
    }
   ],
   "source": [
    "# QuTiP QFT stress tests\n",
    "\n",
    "import numpy\n",
    "import os\n",
    "import qutip\n",
    "import sys\n",
    "import timeit\n",
    "\n",
    "num_cores = 1  # number of cores\n",
    "n = 12  # number of qubits\n",
    "N = 2 ** n\n",
    "\n",
    "#os.environ['OPENBLAS_NUM_THREADS'] = str(num_cores)\n",
    "#os.environ['MKL_NUM_THREADS'] = str(num_cores)\n",
    "qutip.settings.num_cpus = num_cores\n",
    "\n",
    "\n",
    "def qft_gate_sequence(n=1, swapping=True):\n",
    "    \"\"\"\n",
    "    Quantum Fourier Transform operator on N qubits returning the gate sequence.\n",
    "    Parameters\n",
    "    ----------\n",
    "    n: int\n",
    "        Number of qubits.\n",
    "    swapping: boolean\n",
    "        Flag indicating sequence of swap gates to be applied at the end or not.\n",
    "    Returns\n",
    "    -------\n",
    "    qc: instance of QubitCircuit\n",
    "        Gate sequence of Hadamard and controlled rotation gates implementing\n",
    "        QFT.\n",
    "    \"\"\"\n",
    "\n",
    "    if n < 1:\n",
    "        raise ValueError(\"Minimum value of n can be 1\")\n",
    "\n",
    "    qc = qutip.QubitCircuit(n)\n",
    "    if n == 1:\n",
    "        qc.add_gate(\"SNOT\", targets=[0])\n",
    "    else:\n",
    "        for i in range(n):\n",
    "            qc.add_gate(\"SNOT\", targets=[i])\n",
    "            for j in range(2, n - i + 1):\n",
    "                qc.add_gate(r\"CPHASE\", targets=[i], controls=[i + j - 1],\n",
    "                            arg_label=r\"{\\pi/2^{%d}}\" % (j - 1),\n",
    "                            arg_value=numpy.pi / (2 ** (j - 1)))\n",
    "        if swapping is True:\n",
    "            for i in range(n // 2):\n",
    "                qc.add_gate(r\"SWAP\", targets=[i, n - 1 - i])\n",
    "\n",
    "    return qc\n",
    "\n",
    "\n",
    "psi = qutip.ket('0' * n)\n",
    "\n",
    "# start timing\n",
    "start_time = timeit.default_timer()\n",
    "\n",
    "qc0 = qft_gate_sequence(n, True)\n",
    "for gate in qc0.propagators():\n",
    "    psi = gate * psi\n",
    "\n",
    "elapsed = timeit.default_timer() - start_time\n",
    "# end timing\n",
    "\n",
    "print(\"num cores: {}\\nnum qubits: {}\\ntime: {:.9}\".format(num_cores, n, elapsed))"
   ]
  },
  {
   "cell_type": "code",
   "execution_count": null,
   "metadata": {},
   "outputs": [],
   "source": []
  }
 ],
 "metadata": {
  "kernelspec": {
   "display_name": "Python 3",
   "language": "python",
   "name": "python3"
  },
  "language_info": {
   "codemirror_mode": {
    "name": "ipython",
    "version": 3
   },
   "file_extension": ".py",
   "mimetype": "text/x-python",
   "name": "python",
   "nbconvert_exporter": "python",
   "pygments_lexer": "ipython3",
   "version": "3.7.4"
  }
 },
 "nbformat": 4,
 "nbformat_minor": 2
}
