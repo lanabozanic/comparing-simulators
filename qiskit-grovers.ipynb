{
 "cells": [
  {
   "cell_type": "code",
   "execution_count": 1,
   "metadata": {},
   "outputs": [],
   "source": [
    "from qiskit import QuantumCircuit, execute, Aer, IBMQ\n",
    "from qiskit.compiler import transpile, assemble\n",
    "from qiskit.tools.jupyter import *\n",
    "from qiskit.visualization import *\n",
    "import numpy as np\n",
    "from qiskit.quantum_info.operators import Operator"
   ]
  },
  {
   "cell_type": "code",
   "execution_count": 2,
   "metadata": {},
   "outputs": [],
   "source": [
    "SEARCHED_STRING = \"11011011\"\n",
    "\n",
    "N = len(SEARCHED_STRING)\n",
    "oracle = np.zeros(shape=(2 ** N, 2 ** N))\n",
    "for b in range(2 ** N):\n",
    "    if np.binary_repr(b, N) == SEARCHED_STRING:\n",
    "        oracle[b, b] = -1\n",
    "    else:\n",
    "        oracle[b, b] = 1\n",
    "        \n",
    "diffusion = 2.0 * np.full((2 ** N, 2 ** N), 1 / (2 ** N)) - np.eye(2 ** N)        \n",
    "\n",
    "#print(oracle)\n",
    "#print(diffusion)"
   ]
  },
  {
   "cell_type": "code",
   "execution_count": 3,
   "metadata": {},
   "outputs": [],
   "source": [
    "circuit = QuantumCircuit(N, N)\n",
    "\n",
    "for i in range(N):\n",
    "    circuit.i(i)\n",
    "\n",
    "for i in range(N):\n",
    "    circuit.h(i)"
   ]
  },
  {
   "cell_type": "code",
   "execution_count": 4,
   "metadata": {},
   "outputs": [],
   "source": [
    "oracle_gate = Operator(oracle)\n",
    "diffusion_gate = Operator(diffusion)"
   ]
  },
  {
   "cell_type": "code",
   "execution_count": 5,
   "metadata": {},
   "outputs": [],
   "source": [
    "N_ITER = int(np.pi / 4 * np.sqrt(2 ** N))"
   ]
  },
  {
   "cell_type": "code",
   "execution_count": 6,
   "metadata": {},
   "outputs": [],
   "source": [
    "oracle_diffusion_qubit_targets = []\n",
    "\n",
    "for i in range(N):\n",
    "    oracle_diffusion_qubit_targets.append(i)\n",
    "    \n",
    "for i in range(N_ITER):\n",
    "    circuit.unitary(oracle_gate, oracle_diffusion_qubit_targets, label='oracle_gate')\n",
    "\n",
    "    circuit.unitary(diffusion_gate, oracle_diffusion_qubit_targets, label='diffusion_gate')"
   ]
  },
  {
   "cell_type": "code",
   "execution_count": 12,
   "metadata": {},
   "outputs": [
    {
     "name": "stdout",
     "output_type": "stream",
     "text": [
      "{'1101': 963, '1011': 3, '0101': 1, '1010': 1, '1000': 4, '0000': 2, '1001': 4, '1111': 2, '1100': 3, '0001': 4, '0100': 2, '1110': 5, '0010': 3, '0111': 3}\n"
     ]
    },
    {
     "data": {
      "image/png": "[encoded data removed]",
      "text/plain": [
       "<Figure size 504x360 with 1 Axes>"
      ]
     },
     "execution_count": 12,
     "metadata": {},
     "output_type": "execute_result"
    }
   ],
   "source": [
    "circuit.measure(oracle_diffusion_qubit_targets, oracle_diffusion_qubit_targets)\n",
    "\n",
    "simulator = Aer.get_backend('qasm_simulator')\n",
    "\n",
    "job = execute(circuit, simulator, shots=1000)\n",
    "\n",
    "result = job.result()\n",
    "\n",
    "counts = result.get_counts(circuit)\n",
    "\n",
    "#print(counts)\n",
    "plot_histogram(counts)"
   ]
  },
  {
   "cell_type": "code",
   "execution_count": 8,
   "metadata": {},
   "outputs": [],
   "source": [
    "#circuit.draw()"
   ]
  },
  {
   "cell_type": "code",
   "execution_count": null,
   "metadata": {},
   "outputs": [],
   "source": []
  }
 ],
 "metadata": {
  "kernelspec": {
   "display_name": "Python 3",
   "language": "python",
   "name": "python3"
  },
  "language_info": {
   "codemirror_mode": {
    "name": "ipython",
    "version": 3
   },
   "file_extension": ".py",
   "mimetype": "text/x-python",
   "name": "python",
   "nbconvert_exporter": "python",
   "pygments_lexer": "ipython3",
   "version": "3.7.4"
  }
 },
 "nbformat": 4,
 "nbformat_minor": 2
}
