{
 "cells": [
  {
   "cell_type": "code",
   "execution_count": 1,
   "metadata": {},
   "outputs": [],
   "source": [
    "from qutip.qip.operations import *\n",
    "from qutip.qip.circuit import QubitCircuit, Gate\n",
    "from qutip import basis, tensor, sigmax, qeye, Qobj\n",
    "from qutip.qip.device import Processor, OptPulseProcessor\n",
    "from  qutip.stochastic import StochasticSolverOptions\n",
    "import numpy as np"
   ]
  },
  {
   "cell_type": "code",
   "execution_count": 13,
   "metadata": {},
   "outputs": [
    {
     "name": "stdout",
     "output_type": "stream",
     "text": [
      "[[ 1.  0.  0.  0.  0.  0.  0.  0.]\n",
      " [ 0.  1.  0.  0.  0.  0.  0.  0.]\n",
      " [ 0.  0.  1.  0.  0.  0.  0.  0.]\n",
      " [ 0.  0.  0.  1.  0.  0.  0.  0.]\n",
      " [ 0.  0.  0.  0.  1.  0.  0.  0.]\n",
      " [ 0.  0.  0.  0.  0.  1.  0.  0.]\n",
      " [ 0.  0.  0.  0.  0.  0.  1.  0.]\n",
      " [ 0.  0.  0.  0.  0.  0.  0. -1.]]\n"
     ]
    }
   ],
   "source": [
    "searched_string = '111'\n",
    "N = len(searched_string)\n",
    "oracle = np.zeros(shape=(2 ** N, 2 ** N))\n",
    "for b in range(2 ** N):\n",
    "    if np.binary_repr(b, N) == searched_string:\n",
    "        oracle[b, b] = -1\n",
    "    else:\n",
    "        oracle[b, b] = 1\n",
    "print(oracle)\n",
    "\n",
    "qc = QubitCircuit(N=N, reverse_states=False)\n",
    "\n",
    "for i in range(N):\n",
    "    qc.add_gate(\"SNOT\", targets=[i])\n",
    "\n",
    "dim = []\n",
    "\n",
    "for i in range(N):\n",
    "    dim.append(2)\n",
    "\n",
    "o_and_d_targets = []\n",
    "\n",
    "for i in range(N):\n",
    "    o_and_d_targets.append(i)"
   ]
  },
  {
   "cell_type": "code",
   "execution_count": 14,
   "metadata": {},
   "outputs": [],
   "source": [
    "# Oracle Gate\n",
    "def oracle_gate():\n",
    "    mat = oracle\n",
    "    return Qobj(mat, dims=[dim, dim])"
   ]
  },
  {
   "cell_type": "code",
   "execution_count": 15,
   "metadata": {},
   "outputs": [],
   "source": [
    "#Difusion Gate\n",
    "def diffusion_gate():\n",
    "    type(N)\n",
    "    mat = 2.0 * np.full((2 ** N, 2 ** N), 1 / (2 ** N)) - np.eye(2 ** N)\n",
    "    return Qobj(mat, dims=[dim, dim])"
   ]
  },
  {
   "cell_type": "code",
   "execution_count": 16,
   "metadata": {},
   "outputs": [],
   "source": [
    "qc.user_gates = {\"ORACLE\": oracle_gate,\n",
    "                 \"DIFFUSION\" : diffusion_gate}"
   ]
  },
  {
   "cell_type": "code",
   "execution_count": 17,
   "metadata": {},
   "outputs": [],
   "source": [
    "n_iter = int(np.pi / 4 * np.sqrt(2 ** N))"
   ]
  },
  {
   "cell_type": "code",
   "execution_count": 18,
   "metadata": {},
   "outputs": [],
   "source": [
    "for i in range(n_iter):\n",
    "    qc.add_gate(\"ORACLE\", targets=o_and_d_targets)\n",
    "    \n",
    "    qc.add_gate(\"DIFFUSION\", targets=o_and_d_targets)"
   ]
  },
  {
   "cell_type": "code",
   "execution_count": 19,
   "metadata": {},
   "outputs": [],
   "source": [
    "#qc.add_gate(\"DIFFUSION\", targets=[0,1])\n",
    "#qc.propagators()"
   ]
  },
  {
   "cell_type": "code",
   "execution_count": 20,
   "metadata": {},
   "outputs": [
    {
     "data": {
      "text/plain": [
       "qutip.qobj.Qobj"
      ]
     },
     "execution_count": 20,
     "metadata": {},
     "output_type": "execute_result"
    }
   ],
   "source": [
    "#q2.png\n",
    "U2 = gate_sequence_product(qc.propagators())\n",
    "type(U2)"
   ]
  },
  {
   "cell_type": "code",
   "execution_count": 21,
   "metadata": {},
   "outputs": [
    {
     "data": {
      "text/latex": [
       "Quantum object: dims = [[2, 2, 2], [2, 2, 2]], shape = (8, 8), type = oper, isherm = False\\begin{equation*}\\left(\\begin{array}{*{11}c}-0.088 & 0.442 & 0.442 & 0.265 & 0.442 & 0.265 & 0.265 & 0.442\\\\-0.088 & -0.265 & 0.442 & -0.442 & 0.442 & -0.442 & 0.265 & -0.265\\\\-0.088 & 0.442 & -0.265 & -0.442 & 0.442 & 0.265 & -0.442 & -0.265\\\\-0.088 & -0.265 & -0.265 & 0.265 & 0.442 & -0.442 & -0.442 & 0.442\\\\-0.088 & 0.442 & 0.442 & 0.265 & -0.265 & -0.442 & -0.442 & -0.265\\\\-0.088 & -0.265 & 0.442 & -0.442 & -0.265 & 0.265 & -0.442 & 0.442\\\\-0.088 & 0.442 & -0.265 & -0.442 & -0.265 & -0.442 & 0.265 & 0.442\\\\0.972 & 0.088 & 0.088 & -0.088 & 0.088 & -0.088 & -0.088 & 0.088\\\\\\end{array}\\right)\\end{equation*}"
      ],
      "text/plain": [
       "Quantum object: dims = [[2, 2, 2], [2, 2, 2]], shape = (8, 8), type = oper, isherm = False\n",
       "Qobj data =\n",
       "[[-0.08838835  0.44194174  0.44194174  0.26516504  0.44194174  0.26516504\n",
       "   0.26516504  0.44194174]\n",
       " [-0.08838835 -0.26516504  0.44194174 -0.44194174  0.44194174 -0.44194174\n",
       "   0.26516504 -0.26516504]\n",
       " [-0.08838835  0.44194174 -0.26516504 -0.44194174  0.44194174  0.26516504\n",
       "  -0.44194174 -0.26516504]\n",
       " [-0.08838835 -0.26516504 -0.26516504  0.26516504  0.44194174 -0.44194174\n",
       "  -0.44194174  0.44194174]\n",
       " [-0.08838835  0.44194174  0.44194174  0.26516504 -0.26516504 -0.44194174\n",
       "  -0.44194174 -0.26516504]\n",
       " [-0.08838835 -0.26516504  0.44194174 -0.44194174 -0.26516504  0.26516504\n",
       "  -0.44194174  0.44194174]\n",
       " [-0.08838835  0.44194174 -0.26516504 -0.44194174 -0.26516504 -0.44194174\n",
       "   0.26516504  0.44194174]\n",
       " [ 0.97227182  0.08838835  0.08838835 -0.08838835  0.08838835 -0.08838835\n",
       "  -0.08838835  0.08838835]]"
      ]
     },
     "execution_count": 21,
     "metadata": {},
     "output_type": "execute_result"
    }
   ],
   "source": [
    "U2.tidyup()"
   ]
  },
  {
   "cell_type": "code",
   "execution_count": 22,
   "metadata": {},
   "outputs": [],
   "source": [
    "#qc.type\n",
    "#sso = StochasticSolverOptions(m_ops = U2)"
   ]
  },
  {
   "cell_type": "code",
   "execution_count": 25,
   "metadata": {},
   "outputs": [
    {
     "ename": "TypeError",
     "evalue": "object of type 'NoneType' has no len()",
     "output_type": "error",
     "traceback": [
      "\u001b[0;31m---------------------------------------------------------------------------\u001b[0m",
      "\u001b[0;31mTypeError\u001b[0m                                 Traceback (most recent call last)",
      "\u001b[0;32m<ipython-input-25-4e43c63db223>\u001b[0m in \u001b[0;36m<module>\u001b[0;34m\u001b[0m\n\u001b[1;32m      1\u001b[0m \u001b[0mpsi0\u001b[0m \u001b[0;34m=\u001b[0m \u001b[0mtensor\u001b[0m\u001b[0;34m(\u001b[0m\u001b[0;34m[\u001b[0m\u001b[0mbasis\u001b[0m\u001b[0;34m(\u001b[0m\u001b[0;36m2\u001b[0m\u001b[0;34m,\u001b[0m \u001b[0;36m0\u001b[0m\u001b[0;34m)\u001b[0m\u001b[0;34m,\u001b[0m \u001b[0mbasis\u001b[0m\u001b[0;34m(\u001b[0m\u001b[0;36m2\u001b[0m\u001b[0;34m,\u001b[0m \u001b[0;36m0\u001b[0m\u001b[0;34m)\u001b[0m\u001b[0;34m,\u001b[0m \u001b[0mbasis\u001b[0m\u001b[0;34m(\u001b[0m\u001b[0;36m2\u001b[0m\u001b[0;34m,\u001b[0m \u001b[0;36m1\u001b[0m\u001b[0;34m)\u001b[0m\u001b[0;34m]\u001b[0m\u001b[0;34m)\u001b[0m\u001b[0;34m\u001b[0m\u001b[0;34m\u001b[0m\u001b[0m\n\u001b[1;32m      2\u001b[0m \u001b[0mprocessor\u001b[0m \u001b[0;34m=\u001b[0m \u001b[0mProcessor\u001b[0m\u001b[0;34m(\u001b[0m\u001b[0mN\u001b[0m\u001b[0;34m=\u001b[0m\u001b[0mN\u001b[0m\u001b[0;34m)\u001b[0m\u001b[0;34m\u001b[0m\u001b[0;34m\u001b[0m\u001b[0m\n\u001b[0;32m----> 3\u001b[0;31m \u001b[0mresult\u001b[0m \u001b[0;34m=\u001b[0m \u001b[0mprocessor\u001b[0m\u001b[0;34m.\u001b[0m\u001b[0mrun_state\u001b[0m\u001b[0;34m(\u001b[0m\u001b[0mU2\u001b[0m\u001b[0;34m)\u001b[0m\u001b[0;34m\u001b[0m\u001b[0;34m\u001b[0m\u001b[0m\n\u001b[0m",
      "\u001b[0;32m/opt/anaconda3/lib/python3.7/site-packages/qutip/qip/device/processor.py\u001b[0m in \u001b[0;36mrun_state\u001b[0;34m(self, init_state, analytical, states, noisy, **kwargs)\u001b[0m\n\u001b[1;32m    692\u001b[0m         evo_result = mesolve(\n\u001b[1;32m    693\u001b[0m             \u001b[0mH\u001b[0m\u001b[0;34m=\u001b[0m\u001b[0mnoisy_qobjevo\u001b[0m\u001b[0;34m,\u001b[0m \u001b[0mrho0\u001b[0m\u001b[0;34m=\u001b[0m\u001b[0minit_state\u001b[0m\u001b[0;34m,\u001b[0m\u001b[0;34m\u001b[0m\u001b[0;34m\u001b[0m\u001b[0m\n\u001b[0;32m--> 694\u001b[0;31m             tlist=noisy_qobjevo.tlist, **kwargs)\n\u001b[0m\u001b[1;32m    695\u001b[0m         \u001b[0;32mreturn\u001b[0m \u001b[0mevo_result\u001b[0m\u001b[0;34m\u001b[0m\u001b[0;34m\u001b[0m\u001b[0m\n\u001b[1;32m    696\u001b[0m \u001b[0;34m\u001b[0m\u001b[0m\n",
      "\u001b[0;32m/opt/anaconda3/lib/python3.7/site-packages/qutip/mesolve.py\u001b[0m in \u001b[0;36mmesolve\u001b[0;34m(H, rho0, tlist, c_ops, e_ops, args, options, progress_bar, _safe_mode)\u001b[0m\n\u001b[1;32m    267\u001b[0m \u001b[0;34m\u001b[0m\u001b[0m\n\u001b[1;32m    268\u001b[0m     res = _generic_ode_solve(func, ode_args, rho0, tlist, e_ops, options,\n\u001b[0;32m--> 269\u001b[0;31m                              progress_bar, dims=rho0.dims)\n\u001b[0m\u001b[1;32m    270\u001b[0m \u001b[0;34m\u001b[0m\u001b[0m\n\u001b[1;32m    271\u001b[0m     \u001b[0;32mif\u001b[0m \u001b[0me_ops_dict\u001b[0m\u001b[0;34m:\u001b[0m\u001b[0;34m\u001b[0m\u001b[0;34m\u001b[0m\u001b[0m\n",
      "\u001b[0;32m/opt/anaconda3/lib/python3.7/site-packages/qutip/mesolve.py\u001b[0m in \u001b[0;36m_generic_ode_solve\u001b[0;34m(func, ode_args, rho0, tlist, e_ops, opt, progress_bar, dims)\u001b[0m\n\u001b[1;32m    433\u001b[0m \u001b[0;34m\u001b[0m\u001b[0m\n\u001b[1;32m    434\u001b[0m     \u001b[0;31m# prepare output array\u001b[0m\u001b[0;34m\u001b[0m\u001b[0;34m\u001b[0m\u001b[0;34m\u001b[0m\u001b[0m\n\u001b[0;32m--> 435\u001b[0;31m     \u001b[0mn_tsteps\u001b[0m \u001b[0;34m=\u001b[0m \u001b[0mlen\u001b[0m\u001b[0;34m(\u001b[0m\u001b[0mtlist\u001b[0m\u001b[0;34m)\u001b[0m\u001b[0;34m\u001b[0m\u001b[0;34m\u001b[0m\u001b[0m\n\u001b[0m\u001b[1;32m    436\u001b[0m     \u001b[0moutput\u001b[0m \u001b[0;34m=\u001b[0m \u001b[0mResult\u001b[0m\u001b[0;34m(\u001b[0m\u001b[0;34m)\u001b[0m\u001b[0;34m\u001b[0m\u001b[0;34m\u001b[0m\u001b[0m\n\u001b[1;32m    437\u001b[0m     \u001b[0moutput\u001b[0m\u001b[0;34m.\u001b[0m\u001b[0msolver\u001b[0m \u001b[0;34m=\u001b[0m \u001b[0;34m\"mesolve\"\u001b[0m\u001b[0;34m\u001b[0m\u001b[0;34m\u001b[0m\u001b[0m\n",
      "\u001b[0;31mTypeError\u001b[0m: object of type 'NoneType' has no len()"
     ]
    }
   ],
   "source": [
    "psi0 = tensor([basis(2, 0), basis(2, 0), basis(2, 1)])\n",
    "processor = Processor(N=N)\n",
    "result = processor.run_state(U2)"
   ]
  },
  {
   "cell_type": "code",
   "execution_count": 36,
   "metadata": {},
   "outputs": [
    {
     "ename": "AttributeError",
     "evalue": "'QubitCircuit' object has no attribute 'basis'",
     "output_type": "error",
     "traceback": [
      "\u001b[0;31m---------------------------------------------------------------------------\u001b[0m",
      "\u001b[0;31mAttributeError\u001b[0m                            Traceback (most recent call last)",
      "\u001b[0;32m<ipython-input-36-3d2bbd9cb127>\u001b[0m in \u001b[0;36m<module>\u001b[0;34m\u001b[0m\n\u001b[0;32m----> 1\u001b[0;31m \u001b[0mv0\u001b[0m \u001b[0;34m=\u001b[0m \u001b[0mqc\u001b[0m\u001b[0;34m.\u001b[0m\u001b[0mbasis\u001b[0m\u001b[0;34m(\u001b[0m\u001b[0;36m2\u001b[0m\u001b[0;34m,\u001b[0m \u001b[0;36m0\u001b[0m\u001b[0;34m)\u001b[0m\u001b[0;34m\u001b[0m\u001b[0;34m\u001b[0m\u001b[0m\n\u001b[0m",
      "\u001b[0;31mAttributeError\u001b[0m: 'QubitCircuit' object has no attribute 'basis'"
     ]
    }
   ],
   "source": [
    "v0 = qc.basis(2, 0)"
   ]
  },
  {
   "cell_type": "code",
   "execution_count": null,
   "metadata": {},
   "outputs": [],
   "source": []
  },
  {
   "cell_type": "code",
   "execution_count": 34,
   "metadata": {},
   "outputs": [
    {
     "data": {
      "text/plain": [
       "()"
      ]
     },
     "execution_count": 34,
     "metadata": {},
     "output_type": "execute_result"
    }
   ],
   "source": []
  },
  {
   "cell_type": "code",
   "execution_count": null,
   "metadata": {},
   "outputs": [],
   "source": []
  }
 ],
 "metadata": {
  "kernelspec": {
   "display_name": "Python 3",
   "language": "python",
   "name": "python3"
  },
  "language_info": {
   "codemirror_mode": {
    "name": "ipython",
    "version": 3
   },
   "file_extension": ".py",
   "mimetype": "text/x-python",
   "name": "python",
   "nbconvert_exporter": "python",
   "pygments_lexer": "ipython3",
   "version": "3.7.4"
  }
 },
 "nbformat": 4,
 "nbformat_minor": 2
}
